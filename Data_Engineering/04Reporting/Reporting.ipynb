{
 "cells": [
  {
   "cell_type": "markdown",
   "metadata": {},
   "source": [
    "    Creating KPIs"
   ]
  },
  {
   "cell_type": "code",
   "execution_count": null,
   "metadata": {},
   "outputs": [],
   "source": [
    "import pandas as pd\n",
    "\n",
    "\n",
    "avg_scores_employees_df = pd.read_csv('../03Transform/Average_Scores_Per_employee.csv')\n",
    "low_performers_df = pd.read_csv('../03Transform/low_performers.csv')\n",
    "users_df = pd.read_csv('../02Prep_Layer/users_cleaned.csv')\n",
    "\n",
    "trainings_df = pd.read_csv('../02Prep_Layer/trainings_cleaned.csv')\n",
    "\n",
    "\n",
    "\n",
    "avg_scores_employees_df"
   ]
  },
  {
   "cell_type": "code",
   "execution_count": 20,
   "metadata": {},
   "outputs": [
    {
     "name": "stdout",
     "output_type": "stream",
     "text": [
      "Average Score (Overall): 50.174166666666665\n",
      "Total Number of Employees: 10000\n",
      "Number of Low Performers: 4948\n"
     ]
    }
   ],
   "source": [
    "average_score_overall = avg_scores_employees_df['average_score'].mean()\n",
    "total_employees = avg_scores_employees_df.shape[0]\n",
    "low_performers_count = low_performers_df.shape[0]\n",
    "\n",
    "\n",
    "\n",
    "print(f\"Average Score (Overall): {average_score_overall}\")\n",
    "print(f\"Total Number of Employees: {total_employees}\")\n",
    "print(f\"Number of Low Performers: {low_performers_count}\")"
   ]
  },
  {
   "cell_type": "code",
   "execution_count": 22,
   "metadata": {},
   "outputs": [
    {
     "name": "stdout",
     "output_type": "stream",
     "text": [
      "Number of Trainers: 100\n",
      "Number of Admins: 10\n",
      "Number of Trainings: 20\n"
     ]
    }
   ],
   "source": [
    "No_of_trainers = users_df[users_df['role'] == 'TRAINER'].value_counts().sum()\n",
    "print(f\"Number of Trainers: {No_of_trainers}\")\n",
    "\n",
    "No_of_admins = users_df[users_df['role'] == 'ADMIN'].value_counts().sum()\n",
    "print(f\"Number of Admins: {No_of_admins}\")\n",
    "\n",
    "No_of_trainings = trainings_df.value_counts().sum()\n",
    "print(f\"Number of Trainings: {No_of_trainings}\")\n",
    "\n"
   ]
  },
  {
   "cell_type": "code",
   "execution_count": null,
   "metadata": {},
   "outputs": [],
   "source": []
  }
 ],
 "metadata": {
  "kernelspec": {
   "display_name": "Python 3",
   "language": "python",
   "name": "python3"
  },
  "language_info": {
   "codemirror_mode": {
    "name": "ipython",
    "version": 3
   },
   "file_extension": ".py",
   "mimetype": "text/x-python",
   "name": "python",
   "nbconvert_exporter": "python",
   "pygments_lexer": "ipython3",
   "version": "3.12.4"
  }
 },
 "nbformat": 4,
 "nbformat_minor": 2
}
